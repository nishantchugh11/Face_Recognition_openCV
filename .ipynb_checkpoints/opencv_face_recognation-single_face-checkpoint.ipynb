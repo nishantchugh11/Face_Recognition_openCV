{
 "cells": [
  {
   "cell_type": "code",
   "execution_count": 1,
   "metadata": {},
   "outputs": [],
   "source": [
    "import glob\n",
    "import cv2\n",
    "import os\n",
    "import numpy as np"
   ]
  },
  {
   "cell_type": "code",
   "execution_count": 2,
   "metadata": {},
   "outputs": [],
   "source": [
    "#images = [cv2.imread(file) for file in glob.glob(\"Photos/*.jpg\")]"
   ]
  },
  {
   "cell_type": "code",
   "execution_count": 3,
   "metadata": {},
   "outputs": [],
   "source": [
    "subjects = [\"\",\"Nishant\"]"
   ]
  },
  {
   "cell_type": "code",
   "execution_count": 4,
   "metadata": {},
   "outputs": [],
   "source": [
    "def detect_face(img):\n",
    "     gray = cv2.cvtColor(img, cv2.COLOR_BGR2GRAY)\n",
    "     face_cascade = cv2.CascadeClassifier(r'C:\\Users\\nischugh\\Anaconda3\\pkgs\\libopencv-3.4.1-h875b8b8_3\\Library\\etc\\lbpcascades\\lbpcascade_frontalface.xml')\n",
    "     faces = face_cascade.detectMultiScale(gray, scaleFactor=1.2, minNeighbors=5);\n",
    "     #print(faces)\n",
    "     grays = []\n",
    "     if (len(faces) == 0):\n",
    "        return None, None\n",
    "     if (len(faces) == 1):\n",
    "            (x, y, w, h) = faces[0]\n",
    "            return gray[y:y+w, x:x+h], faces[0]\n",
    "     else:\n",
    "        for i in range(len(faces)):\n",
    "            (x, y, w, h) = faces[i]\n",
    "            grays.append([gray[y:y+w, x:x+h]])\n",
    "        return gray, faces"
   ]
  },
  {
   "cell_type": "code",
   "execution_count": 5,
   "metadata": {},
   "outputs": [],
   "source": [
    "def prepare_training_data(data_folder_path):\n",
    "    dirs = os.listdir(data_folder_path)\n",
    "    faces = []\n",
    "    labels = []\n",
    "#    print(dirs)\n",
    "    for dir_name in dirs:\n",
    "        if not dir_name.startswith(\"S\"):\n",
    "            continue;\n",
    "        label = int(dir_name.replace(\"S\",\"\"))\n",
    "        subject_dir_path = data_folder_path + \"/\" + dir_name\n",
    "        #print(subject_dir_path)\n",
    "        subject_images_names = os.listdir(subject_dir_path)\n",
    "        #print(subject_images_names)\n",
    "        for image_name in subject_images_names:\n",
    "            #print(image_name)\n",
    "            if image_name.startswith(\".\"):\n",
    "                continue;\n",
    "            image_path = subject_dir_path + \"/\" + image_name\n",
    "            #print(image_path)\n",
    "            image = cv2.imread(image_path)\n",
    "            cv2.imshow(\"Training on image...\", image)\n",
    "            cv2.waitKey(100)\n",
    "            face, rect = detect_face(image)\n",
    "            #print(face)\n",
    "            if face is not None:\n",
    "                faces.append(face)\n",
    "                labels.append(label)\n",
    "            cv2.destroyAllWindows()\n",
    "            cv2.waitKey(10)\n",
    "            cv2.destroyAllWindows()\n",
    "    return faces, labels"
   ]
  },
  {
   "cell_type": "code",
   "execution_count": 6,
   "metadata": {},
   "outputs": [
    {
     "name": "stdout",
     "output_type": "stream",
     "text": [
      "Preparing data...\n",
      "Data prepared\n",
      "Total faces:  31\n",
      "Total labels:  31\n"
     ]
    }
   ],
   "source": [
    "print(\"Preparing data...\")\n",
    "faces, labels = prepare_training_data(\"Pics/\")\n",
    "print(\"Data prepared\")\n",
    "print(\"Total faces: \", len(faces))\n",
    "print(\"Total labels: \", len(labels))\n",
    "\n"
   ]
  },
  {
   "cell_type": "code",
   "execution_count": 7,
   "metadata": {},
   "outputs": [],
   "source": [
    "face_recognizer = cv2.face.LBPHFaceRecognizer_create()\n",
    "face_recognizer.train(faces, np.array(labels))"
   ]
  },
  {
   "cell_type": "code",
   "execution_count": 17,
   "metadata": {},
   "outputs": [],
   "source": [
    "def draw_rectangle(img, face):\n",
    "    #print(img)\n",
    "    #print(len(face))\n",
    "    for (x,y,w,h) in face:\n",
    "        cv2.rectangle(img, (x, y), (x+w, y+h), (0, 255, 0), 2)\n",
    "        \n",
    "def draw_text(img, text, x, y):\n",
    "    cv2.putText(img, text, (x, y), cv2.FONT_HERSHEY_PLAIN, 1.5, (0, 255, 0), 2)"
   ]
  },
  {
   "cell_type": "code",
   "execution_count": 22,
   "metadata": {},
   "outputs": [],
   "source": [
    "def predict(test_img):\n",
    "    img = test_img.copy()\n",
    "    rect, face = detect_face(img)\n",
    "    print(face)\n",
    "    #print(len(rect))\n",
    "    label = face_recognizer.predict(face)\n",
    "    print(label)\n",
    "    label_text = subjects[label[0]]\n",
    "    draw_rectangle(img, face)\n",
    "    print(rect[0][0])\n",
    "    print(rect[1][1]-5)\n",
    "    draw_text(img, label_text, rect[0][0], rect[1][1]-5)\n",
    "    return img"
   ]
  },
  {
   "cell_type": "code",
   "execution_count": 29,
   "metadata": {},
   "outputs": [
    {
     "name": "stdout",
     "output_type": "stream",
     "text": [
      "Predicting images...\n",
      "[[ 968 2142  508  508]\n",
      " [ 288 1696  773  773]\n",
      " [2029 1133   53   53]]\n",
      "(1, 0.0)\n",
      "3\n",
      "148\n",
      "144\n",
      "Prediction complete\n"
     ]
    }
   ],
   "source": [
    "print(\"Predicting images...\")\n",
    "test_img1 = cv2.imread(\"test5.jpg\")\n",
    "#test_img2 = cv2.imread(\"test.jpg\")\n",
    "predicted_img1 = predict(test_img1)\n",
    "#predicted_img2 = predict(test_img2)\n",
    "print(\"Prediction complete\")\n",
    "cv2.imshow(subjects[1], predicted_img1)\n",
    "#cv2.imshow(subjects[1], predicted_img2)\n",
    "cv2.waitKey(0)\n",
    "cv2.destroyAllWindows()"
   ]
  }
 ],
 "metadata": {
  "kernelspec": {
   "display_name": "Python [conda env:Anaconda3]",
   "language": "python",
   "name": "conda-env-Anaconda3-py"
  },
  "language_info": {
   "codemirror_mode": {
    "name": "ipython",
    "version": 3
   },
   "file_extension": ".py",
   "mimetype": "text/x-python",
   "name": "python",
   "nbconvert_exporter": "python",
   "pygments_lexer": "ipython3",
   "version": "3.6.4"
  }
 },
 "nbformat": 4,
 "nbformat_minor": 2
}
